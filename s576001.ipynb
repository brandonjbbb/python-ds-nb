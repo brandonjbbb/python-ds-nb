{
 "cells": [
  {
   "cell_type": "code",
   "execution_count": 1,
   "metadata": {},
   "outputs": [
    {
     "name": "stdout",
     "output_type": "stream",
     "text": [
      "*      *\n",
      "**    **\n",
      "***  ***\n",
      "********\n"
     ]
    }
   ],
   "source": [
    "### Name: Brandon\n",
    "# Loop to create the pattern\n",
    "for i in range(1, 5):\n",
    "    # Left side stars\n",
    "    left_stars = '*' * i\n",
    "    # Right side stars\n",
    "    right_stars = '*' * i\n",
    "    # Calculate spaces between stars\n",
    "    spaces = ' ' * (8 - 2 * i)\n",
    "    # Print the pattern line\n",
    "    print(left_stars + spaces + right_stars)\n"
   ]
  }
 ],
 "metadata": {
  "kernelspec": {
   "display_name": "Python 3",
   "language": "python",
   "name": "python3"
  },
  "language_info": {
   "codemirror_mode": {
    "name": "ipython",
    "version": 3
   },
   "file_extension": ".py",
   "mimetype": "text/x-python",
   "name": "python",
   "nbconvert_exporter": "python",
   "pygments_lexer": "ipython3",
   "version": "3.12.5"
  }
 },
 "nbformat": 4,
 "nbformat_minor": 2
}
